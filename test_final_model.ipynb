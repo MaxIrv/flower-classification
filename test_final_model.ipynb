{
 "cells": [
  {
   "cell_type": "markdown",
   "metadata": {},
   "source": [
    "# Test the final_model.pth on the Test set\n",
    "Sets up the model, and loads the state dictionary defined by final_model.pth"
   ]
  },
  {
   "cell_type": "markdown",
   "metadata": {},
   "source": [
    "### Imports"
   ]
  },
  {
   "cell_type": "code",
   "execution_count": 4,
   "metadata": {},
   "outputs": [],
   "source": [
    "import torch\n",
    "import torchvision\n",
    "import torchvision.transforms as transforms\n",
    "from torch.utils.data import DataLoader\n",
    "import torchvision.transforms.v2 as transforms\n",
    "import torch.nn as nn"
   ]
  },
  {
   "cell_type": "markdown",
   "metadata": {},
   "source": [
    "### Setup Device"
   ]
  },
  {
   "cell_type": "code",
   "execution_count": 5,
   "metadata": {},
   "outputs": [],
   "source": [
    "device = torch.device('cuda' if torch.cuda.is_available() else 'cpu')"
   ]
  },
  {
   "cell_type": "markdown",
   "metadata": {},
   "source": [
    "### Setup transforms and data loader"
   ]
  },
  {
   "cell_type": "code",
   "execution_count": 6,
   "metadata": {},
   "outputs": [],
   "source": [
    "# Define the transformations\n",
    "transformations1 = transforms.Compose([\n",
    "    transforms.ToTensor(), \n",
    "    transforms.Resize((250, 250)),\n",
    "    # transforms.Normalize(mean=[0.485, 0.456, 0.406], std=[0.229, 0.224, 0.225])  # Normalize the image\n",
    "])\n",
    "\n",
    "testing_dataset = torchvision.datasets.Flowers102(root='./data', split=\"test\",\n",
    "                                                  download=True, transform=transformations1)\n",
    "\n",
    "test_loader = DataLoader(testing_dataset, batch_size=8, shuffle=False)"
   ]
  },
  {
   "cell_type": "markdown",
   "metadata": {},
   "source": [
    "### Define the Model"
   ]
  },
  {
   "cell_type": "code",
   "execution_count": 7,
   "metadata": {},
   "outputs": [],
   "source": [
    "class CNN(nn.Module):\n",
    "  def __init__(self):\n",
    "    super(CNN, self).__init__()\n",
    "    self.flatten = nn.Flatten()\n",
    "    self.relu = nn.PReLU()\n",
    "    \n",
    "    self.layer1 = nn.Sequential(\n",
    "        nn.Conv2d(in_channels=3, out_channels=16, kernel_size=3, stride=(1,1), padding=(1,1)),\n",
    "        nn.BatchNorm2d(16),\n",
    "        nn.PReLU(),\n",
    "        nn.MaxPool2d(2, 2),\n",
    "        nn.Dropout(p=0.1)\n",
    "    )\n",
    "    self.layer2 = nn.Sequential(\n",
    "        nn.Conv2d(in_channels=16, out_channels=32, kernel_size=3, stride=(1,1), padding=(1,1)),\n",
    "        nn.BatchNorm2d(32),\n",
    "        nn.PReLU(),\n",
    "        nn.MaxPool2d(2, 2)\n",
    "    )\n",
    "    self.layer3 = nn.Sequential(\n",
    "        nn.Conv2d(in_channels=32, out_channels=64, kernel_size=3, stride=(1,1), padding=(1,1)),\n",
    "        nn.BatchNorm2d(64),\n",
    "        nn.PReLU(),\n",
    "        nn.MaxPool2d(2, 2)\n",
    "    )\n",
    "    self.layer4 = nn.Sequential(\n",
    "        nn.Conv2d(in_channels=64, out_channels=128, kernel_size=3, stride=(1,1), padding=(1,1)),\n",
    "        nn.BatchNorm2d(128),\n",
    "        nn.PReLU(),\n",
    "        nn.MaxPool2d(2, 2)\n",
    "    )\n",
    "    self.layer5 = nn.Sequential(\n",
    "        nn.Conv2d(in_channels=128, out_channels=256, kernel_size=3, stride=(1,1), padding=(1,1)),\n",
    "        nn.BatchNorm2d(256),\n",
    "        nn.PReLU(),\n",
    "        nn.MaxPool2d(2, 2),\n",
    "        nn.Dropout(p=0.1)\n",
    "    )\n",
    "    self.layer6 = nn.Sequential(\n",
    "        nn.Conv2d(in_channels=256, out_channels=256, kernel_size=3, stride=(1,1), padding=(1,1)),\n",
    "        nn.BatchNorm2d(256),\n",
    "        nn.PReLU(),\n",
    "        nn.MaxPool2d(2, 2),\n",
    "        nn.Dropout(p=0.1)\n",
    "    )\n",
    "    \n",
    "    self.fc1 = nn.Linear(256 * 3 * 3, 512)\n",
    "    self.fc2 = nn.Linear(512, 256)\n",
    "    self.fc3 = nn.Linear(256, 102)  # Output layer for 102 classes\n",
    "\n",
    "  def forward(self, x):\n",
    "    x = self.layer1(x)\n",
    "    x = self.layer2(x)\n",
    "    x = self.layer3(x)\n",
    "    x = self.layer4(x)\n",
    "    x = self.layer5(x)\n",
    "    x = self.layer6(x)\n",
    "    \n",
    "    x = self.flatten(x)\n",
    "    x = self.fc1(x)\n",
    "    x = self.fc2(x)\n",
    "    x = self.fc3(x)\n",
    "    return x\n"
   ]
  },
  {
   "cell_type": "markdown",
   "metadata": {},
   "source": [
    "### Setup Network Accuracy on Testing function"
   ]
  },
  {
   "cell_type": "code",
   "execution_count": 8,
   "metadata": {},
   "outputs": [],
   "source": [
    "def NetworkAccuracyOnTesting(model):\n",
    "    model.eval()\n",
    "    total_correct = 0\n",
    "    total_samples = 0\n",
    "    num_class_correct = [0] * 102\n",
    "    num_class_samples = [0] * 102\n",
    "    with torch.no_grad():\n",
    "        for images, labels in test_loader:\n",
    "            images = images.to(device)\n",
    "            labels = labels.to(device)\n",
    "            \n",
    "            outputs = model(images)\n",
    "            _, predictions = outputs.max(1)\n",
    "            total_samples += labels.size(0)\n",
    "            total_correct += predictions.eq(labels).sum().item()\n",
    "            \n",
    "            c = (predictions == labels).squeeze()\n",
    "            for i in range(len(labels)):\n",
    "                label = labels[i]\n",
    "                num_class_correct[label] += c[i].item()\n",
    "                num_class_samples[label] += 1\n",
    "\n",
    "            # for i in range(len(labels)):\n",
    "            #     label = labels[i]\n",
    "            #     pred = predictions[i]\n",
    "            #     if (label == pred):\n",
    "            #         num_class_correct[label] += 1\n",
    "            #     num_class_samples[label] += 1\n",
    "\n",
    "    acc = 100.0 * total_correct / total_samples\n",
    "    print(f'Accuracy on testing set: {acc} %')\n",
    "\n",
    "    for i in range(102):\n",
    "        acc = 100.0 * num_class_correct[i] / num_class_samples[i]\n",
    "        print(f'Accuracy of {i} : {acc} %')"
   ]
  },
  {
   "cell_type": "markdown",
   "metadata": {},
   "source": [
    "### Setup the model, load the state dictionary and run the testing function"
   ]
  },
  {
   "cell_type": "code",
   "execution_count": 9,
   "metadata": {},
   "outputs": [
    {
     "name": "stdout",
     "output_type": "stream",
     "text": [
      "Accuracy on testing set: 69.88128150918848 %\n",
      "Accuracy of 0 : 80.0 %\n",
      "Accuracy of 1 : 80.0 %\n",
      "Accuracy of 2 : 20.0 %\n",
      "Accuracy of 3 : 19.444444444444443 %\n",
      "Accuracy of 4 : 84.44444444444444 %\n",
      "Accuracy of 5 : 80.0 %\n",
      "Accuracy of 6 : 70.0 %\n",
      "Accuracy of 7 : 86.15384615384616 %\n",
      "Accuracy of 8 : 69.23076923076923 %\n",
      "Accuracy of 9 : 84.0 %\n",
      "Accuracy of 10 : 29.850746268656717 %\n",
      "Accuracy of 11 : 88.05970149253731 %\n",
      "Accuracy of 12 : 86.20689655172414 %\n",
      "Accuracy of 13 : 85.71428571428571 %\n",
      "Accuracy of 14 : 93.10344827586206 %\n",
      "Accuracy of 15 : 71.42857142857143 %\n",
      "Accuracy of 16 : 87.6923076923077 %\n",
      "Accuracy of 17 : 62.903225806451616 %\n",
      "Accuracy of 18 : 44.827586206896555 %\n",
      "Accuracy of 19 : 63.888888888888886 %\n",
      "Accuracy of 20 : 85.0 %\n",
      "Accuracy of 21 : 66.66666666666667 %\n",
      "Accuracy of 22 : 76.05633802816901 %\n",
      "Accuracy of 23 : 72.72727272727273 %\n",
      "Accuracy of 24 : 90.47619047619048 %\n",
      "Accuracy of 25 : 61.904761904761905 %\n",
      "Accuracy of 26 : 75.0 %\n",
      "Accuracy of 27 : 69.56521739130434 %\n",
      "Accuracy of 28 : 81.03448275862068 %\n",
      "Accuracy of 29 : 35.38461538461539 %\n",
      "Accuracy of 30 : 40.625 %\n",
      "Accuracy of 31 : 44.0 %\n",
      "Accuracy of 32 : 88.46153846153847 %\n",
      "Accuracy of 33 : 85.0 %\n",
      "Accuracy of 34 : 91.30434782608695 %\n",
      "Accuracy of 35 : 83.63636363636364 %\n",
      "Accuracy of 36 : 96.5909090909091 %\n",
      "Accuracy of 37 : 75.0 %\n",
      "Accuracy of 38 : 80.95238095238095 %\n",
      "Accuracy of 39 : 51.06382978723404 %\n",
      "Accuracy of 40 : 68.22429906542057 %\n",
      "Accuracy of 41 : 82.05128205128206 %\n",
      "Accuracy of 42 : 17.272727272727273 %\n",
      "Accuracy of 43 : 75.34246575342466 %\n",
      "Accuracy of 44 : 85.0 %\n",
      "Accuracy of 45 : 85.79545454545455 %\n",
      "Accuracy of 46 : 93.61702127659575 %\n",
      "Accuracy of 47 : 70.58823529411765 %\n",
      "Accuracy of 48 : 100.0 %\n",
      "Accuracy of 49 : 86.11111111111111 %\n",
      "Accuracy of 50 : 44.11764705882353 %\n",
      "Accuracy of 51 : 86.15384615384616 %\n",
      "Accuracy of 52 : 47.945205479452056 %\n",
      "Accuracy of 53 : 97.5609756097561 %\n",
      "Accuracy of 54 : 78.43137254901961 %\n",
      "Accuracy of 55 : 92.13483146067416 %\n",
      "Accuracy of 56 : 85.1063829787234 %\n",
      "Accuracy of 57 : 96.80851063829788 %\n",
      "Accuracy of 58 : 100.0 %\n",
      "Accuracy of 59 : 87.64044943820225 %\n",
      "Accuracy of 60 : 100.0 %\n",
      "Accuracy of 61 : 60.0 %\n",
      "Accuracy of 62 : 100.0 %\n",
      "Accuracy of 63 : 100.0 %\n",
      "Accuracy of 64 : 91.46341463414635 %\n",
      "Accuracy of 65 : 90.2439024390244 %\n",
      "Accuracy of 66 : 77.27272727272727 %\n",
      "Accuracy of 67 : 52.94117647058823 %\n",
      "Accuracy of 68 : 91.17647058823529 %\n",
      "Accuracy of 69 : 92.85714285714286 %\n",
      "Accuracy of 70 : 96.55172413793103 %\n",
      "Accuracy of 71 : 59.21052631578947 %\n",
      "Accuracy of 72 : 83.9080459770115 %\n",
      "Accuracy of 73 : 58.27814569536424 %\n",
      "Accuracy of 74 : 73.0 %\n",
      "Accuracy of 75 : 54.02298850574713 %\n",
      "Accuracy of 76 : 85.71428571428571 %\n",
      "Accuracy of 77 : 58.11965811965812 %\n",
      "Accuracy of 78 : 100.0 %\n",
      "Accuracy of 79 : 74.11764705882354 %\n",
      "Accuracy of 80 : 85.61643835616438 %\n",
      "Accuracy of 81 : 36.95652173913044 %\n",
      "Accuracy of 82 : 39.63963963963964 %\n",
      "Accuracy of 83 : 37.878787878787875 %\n",
      "Accuracy of 84 : 93.02325581395348 %\n",
      "Accuracy of 85 : 86.84210526315789 %\n",
      "Accuracy of 86 : 76.74418604651163 %\n",
      "Accuracy of 87 : 30.597014925373134 %\n",
      "Accuracy of 88 : 54.26829268292683 %\n",
      "Accuracy of 89 : 40.32258064516129 %\n",
      "Accuracy of 90 : 71.42857142857143 %\n",
      "Accuracy of 91 : 89.1304347826087 %\n",
      "Accuracy of 92 : 65.38461538461539 %\n",
      "Accuracy of 93 : 68.30985915492958 %\n",
      "Accuracy of 94 : 58.333333333333336 %\n",
      "Accuracy of 95 : 47.88732394366197 %\n",
      "Accuracy of 96 : 56.52173913043478 %\n",
      "Accuracy of 97 : 67.74193548387096 %\n",
      "Accuracy of 98 : 67.44186046511628 %\n",
      "Accuracy of 99 : 96.55172413793103 %\n",
      "Accuracy of 100 : 55.26315789473684 %\n",
      "Accuracy of 101 : 89.28571428571429 %\n"
     ]
    }
   ],
   "source": [
    "model = CNN().to(device)\n",
    "model.load_state_dict(torch.load('final_model.pth'))\n",
    "NetworkAccuracyOnTesting(model)"
   ]
  }
 ],
 "metadata": {
  "kernelspec": {
   "display_name": "Python 3",
   "language": "python",
   "name": "python3"
  },
  "language_info": {
   "codemirror_mode": {
    "name": "ipython",
    "version": 3
   },
   "file_extension": ".py",
   "mimetype": "text/x-python",
   "name": "python",
   "nbconvert_exporter": "python",
   "pygments_lexer": "ipython3",
   "version": "3.12.0"
  }
 },
 "nbformat": 4,
 "nbformat_minor": 2
}
